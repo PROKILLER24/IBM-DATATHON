{
 "cells": [
  {
   "cell_type": "code",
   "execution_count": 1,
   "metadata": {
    "colab": {
     "base_uri": "https://localhost:8080/"
    },
    "id": "4RS6tqQzrlUW",
    "outputId": "7057b33a-a148-4214-f289-6a9f8f2fce51"
   },
   "outputs": [
    {
     "name": "stdout",
     "output_type": "stream",
     "text": [
      "Collecting haversine\n",
      "  Downloading haversine-2.8.1-py2.py3-none-any.whl (7.7 kB)\n",
      "Installing collected packages: haversine\n",
      "Successfully installed haversine-2.8.1\n"
     ]
    }
   ],
   "source": [
    "# Install the missing library\n",
    "!pip install haversine\n",
    "\n",
    "# Importing Libraries\n",
    "import pandas as pd\n",
    "import numpy as np\n",
    "import folium\n",
    "from sklearn.preprocessing import MinMaxScaler\n",
    "from keras.models import Sequential\n",
    "from keras.layers import LSTM, Dense, Dropout\n",
    "from sklearn.model_selection import train_test_split\n",
    "from keras import regularizers\n",
    "from keras.layers import BatchNormalization\n",
    "from haversine import haversine # This line should now work\n",
    "import matplotlib.pyplot as plt\n",
    "from folium import plugins # Import the plugins module"
   ]
  },
  {
   "cell_type": "code",
   "execution_count": 2,
   "metadata": {
    "id": "0UczFWneuJy3"
   },
   "outputs": [],
   "source": [
    "# Load the dataset\n",
    "file_path = r\"C:\\Users\\Aryan\\Downloads\\bird_tracking.csv\"  # Path to the uploaded file\n",
    "df = pd.read_csv(file_path)"
   ]
  },
  {
   "cell_type": "code",
   "execution_count": 3,
   "metadata": {
    "colab": {
     "base_uri": "https://localhost:8080/",
     "height": 206
    },
    "id": "SVwe3ML6uqie",
    "outputId": "cac5d62f-7911-47c6-fb3c-06356f5092e8"
   },
   "outputs": [
    {
     "data": {
      "text/html": [
       "<div>\n",
       "<style scoped>\n",
       "    .dataframe tbody tr th:only-of-type {\n",
       "        vertical-align: middle;\n",
       "    }\n",
       "\n",
       "    .dataframe tbody tr th {\n",
       "        vertical-align: top;\n",
       "    }\n",
       "\n",
       "    .dataframe thead th {\n",
       "        text-align: right;\n",
       "    }\n",
       "</style>\n",
       "<table border=\"1\" class=\"dataframe\">\n",
       "  <thead>\n",
       "    <tr style=\"text-align: right;\">\n",
       "      <th></th>\n",
       "      <th>altitude</th>\n",
       "      <th>date_time</th>\n",
       "      <th>device_info_serial</th>\n",
       "      <th>direction</th>\n",
       "      <th>latitude</th>\n",
       "      <th>longitude</th>\n",
       "      <th>speed_2d</th>\n",
       "      <th>bird_name</th>\n",
       "    </tr>\n",
       "  </thead>\n",
       "  <tbody>\n",
       "    <tr>\n",
       "      <th>0</th>\n",
       "      <td>71</td>\n",
       "      <td>2013-08-15 00:18:08+00</td>\n",
       "      <td>851</td>\n",
       "      <td>-150.469753</td>\n",
       "      <td>49.419860</td>\n",
       "      <td>2.120733</td>\n",
       "      <td>0.150000</td>\n",
       "      <td>Eric</td>\n",
       "    </tr>\n",
       "    <tr>\n",
       "      <th>1</th>\n",
       "      <td>68</td>\n",
       "      <td>2013-08-15 00:48:07+00</td>\n",
       "      <td>851</td>\n",
       "      <td>-136.151141</td>\n",
       "      <td>49.419880</td>\n",
       "      <td>2.120746</td>\n",
       "      <td>2.438360</td>\n",
       "      <td>Eric</td>\n",
       "    </tr>\n",
       "    <tr>\n",
       "      <th>2</th>\n",
       "      <td>68</td>\n",
       "      <td>2013-08-15 01:17:58+00</td>\n",
       "      <td>851</td>\n",
       "      <td>160.797477</td>\n",
       "      <td>49.420310</td>\n",
       "      <td>2.120885</td>\n",
       "      <td>0.596657</td>\n",
       "      <td>Eric</td>\n",
       "    </tr>\n",
       "    <tr>\n",
       "      <th>3</th>\n",
       "      <td>73</td>\n",
       "      <td>2013-08-15 01:47:51+00</td>\n",
       "      <td>851</td>\n",
       "      <td>32.769360</td>\n",
       "      <td>49.420359</td>\n",
       "      <td>2.120859</td>\n",
       "      <td>0.310161</td>\n",
       "      <td>Eric</td>\n",
       "    </tr>\n",
       "    <tr>\n",
       "      <th>4</th>\n",
       "      <td>69</td>\n",
       "      <td>2013-08-15 02:17:42+00</td>\n",
       "      <td>851</td>\n",
       "      <td>45.191230</td>\n",
       "      <td>49.420331</td>\n",
       "      <td>2.120887</td>\n",
       "      <td>0.193132</td>\n",
       "      <td>Eric</td>\n",
       "    </tr>\n",
       "  </tbody>\n",
       "</table>\n",
       "</div>"
      ],
      "text/plain": [
       "   altitude               date_time  device_info_serial   direction  \\\n",
       "0        71  2013-08-15 00:18:08+00                 851 -150.469753   \n",
       "1        68  2013-08-15 00:48:07+00                 851 -136.151141   \n",
       "2        68  2013-08-15 01:17:58+00                 851  160.797477   \n",
       "3        73  2013-08-15 01:47:51+00                 851   32.769360   \n",
       "4        69  2013-08-15 02:17:42+00                 851   45.191230   \n",
       "\n",
       "    latitude  longitude  speed_2d bird_name  \n",
       "0  49.419860   2.120733  0.150000      Eric  \n",
       "1  49.419880   2.120746  2.438360      Eric  \n",
       "2  49.420310   2.120885  0.596657      Eric  \n",
       "3  49.420359   2.120859  0.310161      Eric  \n",
       "4  49.420331   2.120887  0.193132      Eric  "
      ]
     },
     "execution_count": 3,
     "metadata": {},
     "output_type": "execute_result"
    }
   ],
   "source": [
    "# Display the first few rows\n",
    "df.head()"
   ]
  },
  {
   "cell_type": "code",
   "execution_count": 4,
   "metadata": {
    "id": "0PNkXOL8uwVI"
   },
   "outputs": [],
   "source": [
    "# Convert the 'date_time' column to datetime format\n",
    "df['date_time'] = pd.to_datetime(df['date_time'])\n",
    "\n",
    "# Sort the dataset by bird_name and date_time to ensure proper sequencing\n",
    "df = df.sort_values(by=['bird_name', 'date_time'])"
   ]
  },
  {
   "cell_type": "code",
   "execution_count": 5,
   "metadata": {
    "id": "lJWmm1ZtuzMz"
   },
   "outputs": [],
   "source": [
    "# Feature Engineering: Create separate columns for day, month, year, and hour from the 'date_time' column\n",
    "df['day'] = df['date_time'].dt.day\n",
    "df['month'] = df['date_time'].dt.month\n",
    "df['year'] = df['date_time'].dt.year\n",
    "df['hour'] = df['date_time'].dt.hour\n",
    "\n",
    "# Drop any rows with missing values if present\n",
    "df = df.dropna()"
   ]
  },
  {
   "cell_type": "code",
   "execution_count": 6,
   "metadata": {
    "colab": {
     "base_uri": "https://localhost:8080/",
     "height": 206
    },
    "id": "NeXbu0fpu2Bb",
    "outputId": "cc9df9eb-ad6e-4434-e3a0-18897f44bf0b"
   },
   "outputs": [
    {
     "data": {
      "text/html": [
       "<div>\n",
       "<style scoped>\n",
       "    .dataframe tbody tr th:only-of-type {\n",
       "        vertical-align: middle;\n",
       "    }\n",
       "\n",
       "    .dataframe tbody tr th {\n",
       "        vertical-align: top;\n",
       "    }\n",
       "\n",
       "    .dataframe thead th {\n",
       "        text-align: right;\n",
       "    }\n",
       "</style>\n",
       "<table border=\"1\" class=\"dataframe\">\n",
       "  <thead>\n",
       "    <tr style=\"text-align: right;\">\n",
       "      <th></th>\n",
       "      <th>bird_name</th>\n",
       "      <th>latitude</th>\n",
       "      <th>longitude</th>\n",
       "      <th>altitude</th>\n",
       "      <th>speed_2d</th>\n",
       "      <th>direction</th>\n",
       "      <th>day</th>\n",
       "      <th>month</th>\n",
       "      <th>year</th>\n",
       "      <th>hour</th>\n",
       "      <th>date_time</th>\n",
       "    </tr>\n",
       "  </thead>\n",
       "  <tbody>\n",
       "    <tr>\n",
       "      <th>0</th>\n",
       "      <td>Eric</td>\n",
       "      <td>49.419860</td>\n",
       "      <td>2.120733</td>\n",
       "      <td>71</td>\n",
       "      <td>0.150000</td>\n",
       "      <td>-150.469753</td>\n",
       "      <td>15</td>\n",
       "      <td>8</td>\n",
       "      <td>2013</td>\n",
       "      <td>0</td>\n",
       "      <td>2013-08-15 00:18:08+00:00</td>\n",
       "    </tr>\n",
       "    <tr>\n",
       "      <th>1</th>\n",
       "      <td>Eric</td>\n",
       "      <td>49.419880</td>\n",
       "      <td>2.120746</td>\n",
       "      <td>68</td>\n",
       "      <td>2.438360</td>\n",
       "      <td>-136.151141</td>\n",
       "      <td>15</td>\n",
       "      <td>8</td>\n",
       "      <td>2013</td>\n",
       "      <td>0</td>\n",
       "      <td>2013-08-15 00:48:07+00:00</td>\n",
       "    </tr>\n",
       "    <tr>\n",
       "      <th>2</th>\n",
       "      <td>Eric</td>\n",
       "      <td>49.420310</td>\n",
       "      <td>2.120885</td>\n",
       "      <td>68</td>\n",
       "      <td>0.596657</td>\n",
       "      <td>160.797477</td>\n",
       "      <td>15</td>\n",
       "      <td>8</td>\n",
       "      <td>2013</td>\n",
       "      <td>1</td>\n",
       "      <td>2013-08-15 01:17:58+00:00</td>\n",
       "    </tr>\n",
       "    <tr>\n",
       "      <th>3</th>\n",
       "      <td>Eric</td>\n",
       "      <td>49.420359</td>\n",
       "      <td>2.120859</td>\n",
       "      <td>73</td>\n",
       "      <td>0.310161</td>\n",
       "      <td>32.769360</td>\n",
       "      <td>15</td>\n",
       "      <td>8</td>\n",
       "      <td>2013</td>\n",
       "      <td>1</td>\n",
       "      <td>2013-08-15 01:47:51+00:00</td>\n",
       "    </tr>\n",
       "    <tr>\n",
       "      <th>4</th>\n",
       "      <td>Eric</td>\n",
       "      <td>49.420331</td>\n",
       "      <td>2.120887</td>\n",
       "      <td>69</td>\n",
       "      <td>0.193132</td>\n",
       "      <td>45.191230</td>\n",
       "      <td>15</td>\n",
       "      <td>8</td>\n",
       "      <td>2013</td>\n",
       "      <td>2</td>\n",
       "      <td>2013-08-15 02:17:42+00:00</td>\n",
       "    </tr>\n",
       "  </tbody>\n",
       "</table>\n",
       "</div>"
      ],
      "text/plain": [
       "  bird_name   latitude  longitude  altitude  speed_2d   direction  day  month  \\\n",
       "0      Eric  49.419860   2.120733        71  0.150000 -150.469753   15      8   \n",
       "1      Eric  49.419880   2.120746        68  2.438360 -136.151141   15      8   \n",
       "2      Eric  49.420310   2.120885        68  0.596657  160.797477   15      8   \n",
       "3      Eric  49.420359   2.120859        73  0.310161   32.769360   15      8   \n",
       "4      Eric  49.420331   2.120887        69  0.193132   45.191230   15      8   \n",
       "\n",
       "   year  hour                 date_time  \n",
       "0  2013     0 2013-08-15 00:18:08+00:00  \n",
       "1  2013     0 2013-08-15 00:48:07+00:00  \n",
       "2  2013     1 2013-08-15 01:17:58+00:00  \n",
       "3  2013     1 2013-08-15 01:47:51+00:00  \n",
       "4  2013     2 2013-08-15 02:17:42+00:00  "
      ]
     },
     "execution_count": 6,
     "metadata": {},
     "output_type": "execute_result"
    }
   ],
   "source": [
    "# Select only relevant columns: we need 'latitude', 'longitude', 'altitude', 'speed_2d', 'direction', 'day', 'month', 'year', 'hour', and 'bird_name'\n",
    "df = df[['bird_name', 'latitude', 'longitude', 'altitude', 'speed_2d', 'direction', 'day', 'month', 'year', 'hour', 'date_time']]\n",
    "\n",
    "# Display cleaned data\n",
    "df.head()"
   ]
  },
  {
   "cell_type": "code",
   "execution_count": 7,
   "metadata": {
    "colab": {
     "base_uri": "https://localhost:8080/",
     "height": 206
    },
    "id": "-3rVlF3-u4ex",
    "outputId": "b54d82b2-4122-405f-fe90-4c44caec506a"
   },
   "outputs": [
    {
     "data": {
      "text/html": [
       "<div>\n",
       "<style scoped>\n",
       "    .dataframe tbody tr th:only-of-type {\n",
       "        vertical-align: middle;\n",
       "    }\n",
       "\n",
       "    .dataframe tbody tr th {\n",
       "        vertical-align: top;\n",
       "    }\n",
       "\n",
       "    .dataframe thead th {\n",
       "        text-align: right;\n",
       "    }\n",
       "</style>\n",
       "<table border=\"1\" class=\"dataframe\">\n",
       "  <thead>\n",
       "    <tr style=\"text-align: right;\">\n",
       "      <th></th>\n",
       "      <th>bird_name</th>\n",
       "      <th>latitude</th>\n",
       "      <th>longitude</th>\n",
       "      <th>altitude</th>\n",
       "      <th>speed_2d</th>\n",
       "      <th>direction</th>\n",
       "      <th>day</th>\n",
       "      <th>month</th>\n",
       "      <th>year</th>\n",
       "      <th>hour</th>\n",
       "      <th>date_time</th>\n",
       "    </tr>\n",
       "  </thead>\n",
       "  <tbody>\n",
       "    <tr>\n",
       "      <th>0</th>\n",
       "      <td>Eric</td>\n",
       "      <td>0.946415</td>\n",
       "      <td>0.878275</td>\n",
       "      <td>0.135549</td>\n",
       "      <td>0.002363</td>\n",
       "      <td>0.082023</td>\n",
       "      <td>0.466667</td>\n",
       "      <td>0.636364</td>\n",
       "      <td>0.0</td>\n",
       "      <td>0.000000</td>\n",
       "      <td>2013-08-15 00:18:08+00:00</td>\n",
       "    </tr>\n",
       "    <tr>\n",
       "      <th>1</th>\n",
       "      <td>Eric</td>\n",
       "      <td>0.946416</td>\n",
       "      <td>0.878276</td>\n",
       "      <td>0.135172</td>\n",
       "      <td>0.038407</td>\n",
       "      <td>0.121797</td>\n",
       "      <td>0.466667</td>\n",
       "      <td>0.636364</td>\n",
       "      <td>0.0</td>\n",
       "      <td>0.000000</td>\n",
       "      <td>2013-08-15 00:48:07+00:00</td>\n",
       "    </tr>\n",
       "    <tr>\n",
       "      <th>2</th>\n",
       "      <td>Eric</td>\n",
       "      <td>0.946427</td>\n",
       "      <td>0.878282</td>\n",
       "      <td>0.135172</td>\n",
       "      <td>0.009398</td>\n",
       "      <td>0.946659</td>\n",
       "      <td>0.466667</td>\n",
       "      <td>0.636364</td>\n",
       "      <td>0.0</td>\n",
       "      <td>0.043478</td>\n",
       "      <td>2013-08-15 01:17:58+00:00</td>\n",
       "    </tr>\n",
       "    <tr>\n",
       "      <th>3</th>\n",
       "      <td>Eric</td>\n",
       "      <td>0.946428</td>\n",
       "      <td>0.878281</td>\n",
       "      <td>0.135799</td>\n",
       "      <td>0.004885</td>\n",
       "      <td>0.591024</td>\n",
       "      <td>0.466667</td>\n",
       "      <td>0.636364</td>\n",
       "      <td>0.0</td>\n",
       "      <td>0.043478</td>\n",
       "      <td>2013-08-15 01:47:51+00:00</td>\n",
       "    </tr>\n",
       "    <tr>\n",
       "      <th>4</th>\n",
       "      <td>Eric</td>\n",
       "      <td>0.946427</td>\n",
       "      <td>0.878282</td>\n",
       "      <td>0.135298</td>\n",
       "      <td>0.003042</td>\n",
       "      <td>0.625529</td>\n",
       "      <td>0.466667</td>\n",
       "      <td>0.636364</td>\n",
       "      <td>0.0</td>\n",
       "      <td>0.086957</td>\n",
       "      <td>2013-08-15 02:17:42+00:00</td>\n",
       "    </tr>\n",
       "  </tbody>\n",
       "</table>\n",
       "</div>"
      ],
      "text/plain": [
       "  bird_name  latitude  longitude  altitude  speed_2d  direction       day  \\\n",
       "0      Eric  0.946415   0.878275  0.135549  0.002363   0.082023  0.466667   \n",
       "1      Eric  0.946416   0.878276  0.135172  0.038407   0.121797  0.466667   \n",
       "2      Eric  0.946427   0.878282  0.135172  0.009398   0.946659  0.466667   \n",
       "3      Eric  0.946428   0.878281  0.135799  0.004885   0.591024  0.466667   \n",
       "4      Eric  0.946427   0.878282  0.135298  0.003042   0.625529  0.466667   \n",
       "\n",
       "      month  year      hour                 date_time  \n",
       "0  0.636364   0.0  0.000000 2013-08-15 00:18:08+00:00  \n",
       "1  0.636364   0.0  0.000000 2013-08-15 00:48:07+00:00  \n",
       "2  0.636364   0.0  0.043478 2013-08-15 01:17:58+00:00  \n",
       "3  0.636364   0.0  0.043478 2013-08-15 01:47:51+00:00  \n",
       "4  0.636364   0.0  0.086957 2013-08-15 02:17:42+00:00  "
      ]
     },
     "execution_count": 7,
     "metadata": {},
     "output_type": "execute_result"
    }
   ],
   "source": [
    "# Define the features and labels\n",
    "features = ['latitude', 'longitude', 'altitude', 'speed_2d', 'direction', 'day', 'month', 'year', 'hour']\n",
    "scaler = MinMaxScaler()\n",
    "\n",
    "# Apply scaling only to the features (excluding bird_name and date_time)\n",
    "df[features] = scaler.fit_transform(df[features])\n",
    "\n",
    "# Visualize the scaled data\n",
    "df.head()"
   ]
  },
  {
   "cell_type": "code",
   "execution_count": 8,
   "metadata": {
    "id": "ufDHltrLu7ID"
   },
   "outputs": [],
   "source": [
    "# Function to create sequences for LSTM\n",
    "def create_sequences(data, seq_length):\n",
    "    sequences = []\n",
    "    labels = []\n",
    "\n",
    "    for i in range(len(data) - seq_length):\n",
    "        sequence = data[i:i + seq_length]\n",
    "        label = data[i + seq_length, 0:2]  # Predicting only the latitude and longitude\n",
    "        sequences.append(sequence)\n",
    "        labels.append(label)\n",
    "\n",
    "    return np.array(sequences), np.array(labels)"
   ]
  },
  {
   "cell_type": "code",
   "execution_count": 9,
   "metadata": {
    "id": "f9XTxR68u93N"
   },
   "outputs": [],
   "source": [
    "# Set sequence length (e.g., 10 time steps)\n",
    "seq_length = 10\n",
    "\n",
    "# Separate the data for each bird and prepare sequences\n",
    "bird_names = df['bird_name'].unique()\n",
    "X = []\n",
    "y = []\n",
    "\n",
    "for bird in bird_names:\n",
    "    bird_data = df[df['bird_name'] == bird][features].values\n",
    "    sequences, labels = create_sequences(bird_data, seq_length)\n",
    "    X.extend(sequences)\n",
    "    y.extend(labels)"
   ]
  },
  {
   "cell_type": "code",
   "execution_count": 10,
   "metadata": {
    "id": "Zhzy4gCTvB3v"
   },
   "outputs": [],
   "source": [
    "\n",
    "# Convert lists to numpy arrays\n",
    "X = np.array(X)\n",
    "y = np.array(y)"
   ]
  },
  {
   "cell_type": "code",
   "execution_count": 11,
   "metadata": {
    "id": "_Sx8HHoJvGN4"
   },
   "outputs": [],
   "source": [
    "# Split the data into training and testing sets\n",
    "X_train, X_test, y_train, y_test = train_test_split(X, y, test_size=0.2, random_state=42)"
   ]
  },
  {
   "cell_type": "code",
   "execution_count": 12,
   "metadata": {
    "colab": {
     "base_uri": "https://localhost:8080/"
    },
    "id": "ZyiVzJ9xvJeY",
    "outputId": "40e26aae-71b2-4712-b834-5ad43312ff95"
   },
   "outputs": [
    {
     "name": "stderr",
     "output_type": "stream",
     "text": [
      "C:\\Users\\Aryan\\anaconda3\\lib\\site-packages\\keras\\src\\layers\\rnn\\rnn.py:204: UserWarning: Do not pass an `input_shape`/`input_dim` argument to a layer. When using Sequential models, prefer using an `Input(shape)` object as the first layer in the model instead.\n",
      "  super().__init__(**kwargs)\n"
     ]
    }
   ],
   "source": [
    "# Build LSTM Model\n",
    "model = Sequential()\n",
    "model.add(LSTM(100, return_sequences=True, input_shape=(seq_length, X_train.shape[2])))\n",
    "model.add(BatchNormalization())\n",
    "model.add(Dropout(0.2))\n",
    "model.add(LSTM(100))\n",
    "model.add(BatchNormalization())\n",
    "model.add(Dropout(0.2))\n",
    "model.add(Dense(50, activation='relu', kernel_regularizer=regularizers.l2(0.01)))\n",
    "model.add(Dense(2))  # Predicting 2 values: latitude and longitude"
   ]
  },
  {
   "cell_type": "code",
   "execution_count": 13,
   "metadata": {
    "id": "mOLBigukvMUY"
   },
   "outputs": [],
   "source": [
    "# Compile the model\n",
    "model.compile(optimizer='adam', loss='mean_squared_error')"
   ]
  },
  {
   "cell_type": "code",
   "execution_count": 14,
   "metadata": {
    "colab": {
     "base_uri": "https://localhost:8080/"
    },
    "id": "TD_U2nLEvO3z",
    "outputId": "3085996e-34e1-4628-b5dd-2383236034ba"
   },
   "outputs": [
    {
     "name": "stdout",
     "output_type": "stream",
     "text": [
      "Epoch 1/15\n",
      "\u001b[1m769/769\u001b[0m \u001b[32m━━━━━━━━━━━━━━━━━━━━\u001b[0m\u001b[37m\u001b[0m \u001b[1m25s\u001b[0m 27ms/step - loss: 0.5705 - val_loss: 0.0332\n",
      "Epoch 2/15\n",
      "\u001b[1m769/769\u001b[0m \u001b[32m━━━━━━━━━━━━━━━━━━━━\u001b[0m\u001b[37m\u001b[0m \u001b[1m20s\u001b[0m 26ms/step - loss: 0.0202 - val_loss: 0.0017\n",
      "Epoch 3/15\n",
      "\u001b[1m769/769\u001b[0m \u001b[32m━━━━━━━━━━━━━━━━━━━━\u001b[0m\u001b[37m\u001b[0m \u001b[1m21s\u001b[0m 27ms/step - loss: 0.0032 - val_loss: 0.0011\n",
      "Epoch 4/15\n",
      "\u001b[1m769/769\u001b[0m \u001b[32m━━━━━━━━━━━━━━━━━━━━\u001b[0m\u001b[37m\u001b[0m \u001b[1m20s\u001b[0m 26ms/step - loss: 0.0020 - val_loss: 0.0110\n",
      "Epoch 5/15\n",
      "\u001b[1m769/769\u001b[0m \u001b[32m━━━━━━━━━━━━━━━━━━━━\u001b[0m\u001b[37m\u001b[0m \u001b[1m20s\u001b[0m 26ms/step - loss: 0.0039 - val_loss: 8.2585e-04\n",
      "Epoch 6/15\n",
      "\u001b[1m769/769\u001b[0m \u001b[32m━━━━━━━━━━━━━━━━━━━━\u001b[0m\u001b[37m\u001b[0m \u001b[1m21s\u001b[0m 27ms/step - loss: 0.0018 - val_loss: 8.8248e-04\n",
      "Epoch 7/15\n",
      "\u001b[1m769/769\u001b[0m \u001b[32m━━━━━━━━━━━━━━━━━━━━\u001b[0m\u001b[37m\u001b[0m \u001b[1m21s\u001b[0m 27ms/step - loss: 0.0018 - val_loss: 9.8591e-04\n",
      "Epoch 8/15\n",
      "\u001b[1m769/769\u001b[0m \u001b[32m━━━━━━━━━━━━━━━━━━━━\u001b[0m\u001b[37m\u001b[0m \u001b[1m21s\u001b[0m 27ms/step - loss: 0.0015 - val_loss: 0.0029\n",
      "Epoch 9/15\n",
      "\u001b[1m769/769\u001b[0m \u001b[32m━━━━━━━━━━━━━━━━━━━━\u001b[0m\u001b[37m\u001b[0m \u001b[1m21s\u001b[0m 27ms/step - loss: 0.0018 - val_loss: 0.0025\n",
      "Epoch 10/15\n",
      "\u001b[1m769/769\u001b[0m \u001b[32m━━━━━━━━━━━━━━━━━━━━\u001b[0m\u001b[37m\u001b[0m \u001b[1m22s\u001b[0m 29ms/step - loss: 0.0022 - val_loss: 6.6400e-04\n",
      "Epoch 11/15\n",
      "\u001b[1m769/769\u001b[0m \u001b[32m━━━━━━━━━━━━━━━━━━━━\u001b[0m\u001b[37m\u001b[0m \u001b[1m23s\u001b[0m 30ms/step - loss: 0.0016 - val_loss: 0.0015\n",
      "Epoch 12/15\n",
      "\u001b[1m769/769\u001b[0m \u001b[32m━━━━━━━━━━━━━━━━━━━━\u001b[0m\u001b[37m\u001b[0m \u001b[1m22s\u001b[0m 29ms/step - loss: 0.0011 - val_loss: 0.0013\n",
      "Epoch 13/15\n",
      "\u001b[1m769/769\u001b[0m \u001b[32m━━━━━━━━━━━━━━━━━━━━\u001b[0m\u001b[37m\u001b[0m \u001b[1m22s\u001b[0m 29ms/step - loss: 0.0011 - val_loss: 0.0013\n",
      "Epoch 14/15\n",
      "\u001b[1m769/769\u001b[0m \u001b[32m━━━━━━━━━━━━━━━━━━━━\u001b[0m\u001b[37m\u001b[0m \u001b[1m22s\u001b[0m 28ms/step - loss: 0.0013 - val_loss: 0.0027\n",
      "Epoch 15/15\n",
      "\u001b[1m769/769\u001b[0m \u001b[32m━━━━━━━━━━━━━━━━━━━━\u001b[0m\u001b[37m\u001b[0m \u001b[1m22s\u001b[0m 28ms/step - loss: 0.0024 - val_loss: 0.0040\n"
     ]
    }
   ],
   "source": [
    "# Train the model for 15 epochs\n",
    "history = model.fit(X_train, y_train, epochs=15, batch_size=64, validation_data=(X_test, y_test))"
   ]
  },
  {
   "cell_type": "code",
   "execution_count": 15,
   "metadata": {
    "colab": {
     "base_uri": "https://localhost:8080/",
     "height": 472
    },
    "id": "5Bcda48gvRkz",
    "outputId": "201dd18e-20c6-4a3b-83f6-9525dfb1cb94"
   },
   "outputs": [
    {
     "data": {
      "image/png": "[encoded data removed]",
      "text/plain": [
       "<Figure size 640x480 with 1 Axes>"
      ]
     },
     "metadata": {},
     "output_type": "display_data"
    }
   ],
   "source": [
    "# Plot training & validation loss\n",
    "plt.plot(history.history['loss'], label='Train loss')\n",
    "plt.plot(history.history['val_loss'], label='Validation loss')\n",
    "plt.title('Model Loss')\n",
    "plt.xlabel('Epochs')\n",
    "plt.ylabel('Loss')\n",
    "plt.legend()\n",
    "plt.show()"
   ]
  },
  {
   "cell_type": "code",
   "execution_count": 16,
   "metadata": {
    "colab": {
     "base_uri": "https://localhost:8080/"
    },
    "id": "kCeoTmoYxeix",
    "outputId": "a76c5343-d849-4b05-edd8-f608182fa16e"
   },
   "outputs": [
    {
     "name": "stdout",
     "output_type": "stream",
     "text": [
      "\u001b[1m385/385\u001b[0m \u001b[32m━━━━━━━━━━━━━━━━━━━━\u001b[0m\u001b[37m\u001b[0m \u001b[1m2s\u001b[0m 5ms/step - loss: 0.0040\n",
      "Test Loss: 0.003950885497033596\n"
     ]
    }
   ],
   "source": [
    "# Evaluate the model on test data\n",
    "test_loss = model.evaluate(X_test, y_test)\n",
    "print(f'Test Loss: {test_loss}')\n"
   ]
  },
  {
   "cell_type": "code",
   "execution_count": 17,
   "metadata": {
    "colab": {
     "base_uri": "https://localhost:8080/"
    },
    "id": "wvFB9Tf7xlh8",
    "outputId": "d9619d69-dd6a-4958-bdbc-026075673444"
   },
   "outputs": [
    {
     "name": "stdout",
     "output_type": "stream",
     "text": [
      "\u001b[1m385/385\u001b[0m \u001b[32m━━━━━━━━━━━━━━━━━━━━\u001b[0m\u001b[37m\u001b[0m \u001b[1m3s\u001b[0m 6ms/step\n"
     ]
    }
   ],
   "source": [
    "# Predict future positions for the test set\n",
    "y_pred = model.predict(X_test)\n",
    "\n",
    "# Rescale the predictions back to the original latitude/longitude scale\n",
    "y_pred_rescaled = scaler.inverse_transform(np.hstack((y_pred, np.zeros((y_pred.shape[0], X_test.shape[2] - 2)))))[:, :2]\n",
    "\n",
    "# Rescale the true test data back to the original scale for comparison\n",
    "y_test_rescaled = scaler.inverse_transform(np.hstack((y_test, np.zeros((y_test.shape[0], X_test.shape[2] - 2)))))[:, :2]"
   ]
  },
  {
   "cell_type": "code",
   "execution_count": 18,
   "metadata": {
    "id": "qJF0j6L-xuw3"
   },
   "outputs": [],
   "source": [
    "# Predict location for a specific bird and date\n",
    "\n",
    "# Function to predict for a specific bird and date\n",
    "def predict_location_on_date(bird_name, target_date):\n",
    "    # Filter the bird data for the specific bird\n",
    "    bird_data = df[df['bird_name'] == bird_name]\n",
    "\n",
    "    # Ensure the target_date is in datetime format\n",
    "    target_date = pd.to_datetime(target_date)\n",
    "\n",
    "    # Filter out rows up until the target date\n",
    "    bird_data = bird_data[bird_data['date_time'] <= target_date]\n",
    "\n",
    "    # Get the most recent data for prediction\n",
    "    bird_data_seq = bird_data[features].values[-seq_length:]\n",
    "\n",
    "    # Scale the data\n",
    "    bird_data_seq_scaled = scaler.transform(bird_data_seq)\n",
    "\n",
    "    # Reshape for the LSTM model input\n",
    "    bird_data_seq_scaled = bird_data_seq_scaled.reshape((1, seq_length, len(features)))\n",
    "\n",
    "    # Predict future location\n",
    "    y_bird_pred = model.predict(bird_data_seq_scaled)\n",
    "\n",
    "    # Rescale the prediction to get the original latitude and longitude\n",
    "    y_bird_pred_rescaled = scaler.inverse_transform(np.hstack((y_bird_pred, np.zeros((y_bird_pred.shape[0], X_test.shape[2] - 2)))))[:, :2]\n",
    "\n",
    "    return y_bird_pred_rescaled"
   ]
  },
  {
   "cell_type": "code",
   "execution_count": 20,
   "metadata": {
    "colab": {
     "base_uri": "https://localhost:8080/"
    },
    "id": "Uaq_i2uOyF93",
    "outputId": "94b71d4a-704f-42ae-a294-b13016bd23eb"
   },
   "outputs": [
    {
     "name": "stdout",
     "output_type": "stream",
     "text": [
      "\u001b[1m1/1\u001b[0m \u001b[32m━━━━━━━━━━━━━━━━━━━━\u001b[0m\u001b[37m\u001b[0m \u001b[1m0s\u001b[0m 15ms/step\n"
     ]
    },
    {
     "name": "stderr",
     "output_type": "stream",
     "text": [
      "C:\\Users\\Aryan\\anaconda3\\lib\\site-packages\\sklearn\\base.py:420: UserWarning: X does not have valid feature names, but MinMaxScaler was fitted with feature names\n",
      "  warnings.warn(\n"
     ]
    }
   ],
   "source": [
    "# Test with a specific bird and date\n",
    "bird_name = 'Eric'  # Replace with actual bird name from the dataset\n",
    "target_date = '2023-05-12 12:00:00'  # Replace with actual target date\n",
    "target_date = pd.to_datetime(target_date).tz_localize('UTC')\n",
    "\n",
    "predicted_location = predict_location_on_date(bird_name, target_date)"
   ]
  },
  {
   "cell_type": "code",
   "execution_count": 21,
   "metadata": {
    "colab": {
     "base_uri": "https://localhost:8080/"
    },
    "id": "JY7lLDNuyp5C",
    "outputId": "aaac7136-99ae-43da-dd07-e86472d30300"
   },
   "outputs": [
    {
     "name": "stdout",
     "output_type": "stream",
     "text": [
      "Predicted location for Eric on 2023-05-12 12:00:00+00:00: [[ 22.85835329 -14.49587506]]\n"
     ]
    }
   ],
   "source": [
    "print(f'Predicted location for {bird_name} on {target_date}: {predicted_location}')"
   ]
  },
  {
   "cell_type": "code",
   "execution_count": null,
   "metadata": {
    "id": "xlgkmlHOzpjE"
   },
   "outputs": [],
   "source": []
  },
  {
   "cell_type": "code",
   "execution_count": 33,
   "metadata": {},
   "outputs": [
    {
     "data": {
      "text/html": [
       "<div style=\"width:100%;\"><div style=\"position:relative;width:100%;height:0;padding-bottom:60%;\"><span style=\"color:#565656\">Make this Notebook Trusted to load map: File -> Trust Notebook</span><iframe srcdoc=\"&lt;!DOCTYPE html&gt;\n",
       "&lt;html&gt;\n",
       "&lt;head&gt;\n",
       "    \n",
       "    &lt;meta http-equiv=&quot;content-type&quot; content=&quot;text/html; charset=UTF-8&quot; /&gt;\n",
       "    \n",
       "        &lt;script&gt;\n",
       "            L_NO_TOUCH = false;\n",
       "            L_DISABLE_3D = false;\n",
       "        &lt;/script&gt;\n",
       "    \n",
       "    &lt;style&gt;html, body {width: 100%;height: 100%;margin: 0;padding: 0;}&lt;/style&gt;\n",
       "    &lt;style&gt;#map {position:absolute;top:0;bottom:0;right:0;left:0;}&lt;/style&gt;\n",
       "    &lt;script src=&quot;https://cdn.jsdelivr.net/npm/leaflet@1.9.3/dist/leaflet.js&quot;&gt;&lt;/script&gt;\n",
       "    &lt;script src=&quot;https://code.jquery.com/jquery-3.7.1.min.js&quot;&gt;&lt;/script&gt;\n",
       "    &lt;script src=&quot;https://cdn.jsdelivr.net/npm/bootstrap@5.2.2/dist/js/bootstrap.bundle.min.js&quot;&gt;&lt;/script&gt;\n",
       "    &lt;script src=&quot;https://cdnjs.cloudflare.com/ajax/libs/Leaflet.awesome-markers/2.0.2/leaflet.awesome-markers.js&quot;&gt;&lt;/script&gt;\n",
       "    &lt;link rel=&quot;stylesheet&quot; href=&quot;https://cdn.jsdelivr.net/npm/leaflet@1.9.3/dist/leaflet.css&quot;/&gt;\n",
       "    &lt;link rel=&quot;stylesheet&quot; href=&quot;https://cdn.jsdelivr.net/npm/bootstrap@5.2.2/dist/css/bootstrap.min.css&quot;/&gt;\n",
       "    &lt;link rel=&quot;stylesheet&quot; href=&quot;https://netdna.bootstrapcdn.com/bootstrap/3.0.0/css/bootstrap-glyphicons.css&quot;/&gt;\n",
       "    &lt;link rel=&quot;stylesheet&quot; href=&quot;https://cdn.jsdelivr.net/npm/@fortawesome/fontawesome-free@6.2.0/css/all.min.css&quot;/&gt;\n",
       "    &lt;link rel=&quot;stylesheet&quot; href=&quot;https://cdnjs.cloudflare.com/ajax/libs/Leaflet.awesome-markers/2.0.2/leaflet.awesome-markers.css&quot;/&gt;\n",
       "    &lt;link rel=&quot;stylesheet&quot; href=&quot;https://cdn.jsdelivr.net/gh/python-visualization/folium/folium/templates/leaflet.awesome.rotate.min.css&quot;/&gt;\n",
       "    \n",
       "            &lt;meta name=&quot;viewport&quot; content=&quot;width=device-width,\n",
       "                initial-scale=1.0, maximum-scale=1.0, user-scalable=no&quot; /&gt;\n",
       "            &lt;style&gt;\n",
       "                #map_d3c458e886f90db357e31d7a20bd8702 {\n",
       "                    position: relative;\n",
       "                    width: 100.0%;\n",
       "                    height: 100.0%;\n",
       "                    left: 0.0%;\n",
       "                    top: 0.0%;\n",
       "                }\n",
       "                .leaflet-container { font-size: 1rem; }\n",
       "            &lt;/style&gt;\n",
       "        \n",
       "&lt;/head&gt;\n",
       "&lt;body&gt;\n",
       "    \n",
       "    \n",
       "            &lt;div class=&quot;folium-map&quot; id=&quot;map_d3c458e886f90db357e31d7a20bd8702&quot; &gt;&lt;/div&gt;\n",
       "        \n",
       "&lt;/body&gt;\n",
       "&lt;script&gt;\n",
       "    \n",
       "    \n",
       "            var map_d3c458e886f90db357e31d7a20bd8702 = L.map(\n",
       "                &quot;map_d3c458e886f90db357e31d7a20bd8702&quot;,\n",
       "                {\n",
       "                    center: [22.858353290401624, -14.495875061630343],\n",
       "                    crs: L.CRS.EPSG3857,\n",
       "                    zoom: 12,\n",
       "                    zoomControl: true,\n",
       "                    preferCanvas: false,\n",
       "                }\n",
       "            );\n",
       "\n",
       "            \n",
       "\n",
       "        \n",
       "    \n",
       "            var tile_layer_6b469905f164ac19fdb53028582497bd = L.tileLayer(\n",
       "                &quot;Stamen Terrain&quot;,\n",
       "                {&quot;attribution&quot;: &quot;Map tiles by Stamen Design, under CC BY 3.0. Data by OpenStreetMap, under ODbL.&quot;, &quot;detectRetina&quot;: false, &quot;maxZoom&quot;: 18, &quot;minZoom&quot;: 0, &quot;noWrap&quot;: false, &quot;opacity&quot;: 1, &quot;subdomains&quot;: &quot;abc&quot;, &quot;tms&quot;: false}\n",
       "            );\n",
       "        \n",
       "    \n",
       "            tile_layer_6b469905f164ac19fdb53028582497bd.addTo(map_d3c458e886f90db357e31d7a20bd8702);\n",
       "        \n",
       "    \n",
       "            var marker_b091c236eaf4abf91d1861f2c7407ff1 = L.marker(\n",
       "                [22.858353290401624, -14.495875061630343],\n",
       "                {}\n",
       "            ).addTo(map_d3c458e886f90db357e31d7a20bd8702);\n",
       "        \n",
       "    \n",
       "        var popup_2e95dcddc24b1fabddda601d854d7720 = L.popup({&quot;maxWidth&quot;: &quot;100%&quot;});\n",
       "\n",
       "        \n",
       "            \n",
       "                var html_c06ecc0da350f24198232111f42f84ba = $(`&lt;div id=&quot;html_c06ecc0da350f24198232111f42f84ba&quot; style=&quot;width: 100.0%; height: 100.0%;&quot;&gt;Eric: 22.858353290401624, -14.495875061630343&lt;/div&gt;`)[0];\n",
       "                popup_2e95dcddc24b1fabddda601d854d7720.setContent(html_c06ecc0da350f24198232111f42f84ba);\n",
       "            \n",
       "        \n",
       "\n",
       "        marker_b091c236eaf4abf91d1861f2c7407ff1.bindPopup(popup_2e95dcddc24b1fabddda601d854d7720)\n",
       "        ;\n",
       "\n",
       "        \n",
       "    \n",
       "    \n",
       "            marker_b091c236eaf4abf91d1861f2c7407ff1.bindTooltip(\n",
       "                `&lt;div&gt;\n",
       "                     Eric&#x27;s Predicted Location\n",
       "                 &lt;/div&gt;`,\n",
       "                {&quot;sticky&quot;: true}\n",
       "            );\n",
       "        \n",
       "    \n",
       "            var tile_layer_aa29368dd6b68c0e45a4ef0953216357 = L.tileLayer(\n",
       "                &quot;https://server.arcgisonline.com/ArcGIS/rest/services/World_Imagery/MapServer/tile/{z}/{y}/{x}&quot;,\n",
       "                {&quot;attribution&quot;: &quot;Tiles \\u0026copy; Esri \\u0026mdash; Source: Esri, i-cubed, USDA, USGS, AEX, GeoEye, Getmapping, Aerogrid, IGN, IGP, UPR-EGP, and the GIS User Community&quot;, &quot;detectRetina&quot;: false, &quot;maxZoom&quot;: 18, &quot;minZoom&quot;: 0, &quot;noWrap&quot;: false, &quot;opacity&quot;: 1, &quot;subdomains&quot;: &quot;abc&quot;, &quot;tms&quot;: false}\n",
       "            );\n",
       "        \n",
       "    \n",
       "            tile_layer_aa29368dd6b68c0e45a4ef0953216357.addTo(map_d3c458e886f90db357e31d7a20bd8702);\n",
       "        \n",
       "    \n",
       "            var layer_control_026c15ae2d234d3b1f488d3131e13b7a_layers = {\n",
       "                base_layers : {\n",
       "                    &quot;stamenterrain&quot; : tile_layer_6b469905f164ac19fdb53028582497bd,\n",
       "                    &quot;Satellite&quot; : tile_layer_aa29368dd6b68c0e45a4ef0953216357,\n",
       "                },\n",
       "                overlays :  {\n",
       "                },\n",
       "            };\n",
       "            let layer_control_026c15ae2d234d3b1f488d3131e13b7a = L.control.layers(\n",
       "                layer_control_026c15ae2d234d3b1f488d3131e13b7a_layers.base_layers,\n",
       "                layer_control_026c15ae2d234d3b1f488d3131e13b7a_layers.overlays,\n",
       "                {&quot;autoZIndex&quot;: true, &quot;collapsed&quot;: true, &quot;position&quot;: &quot;topright&quot;}\n",
       "            ).addTo(map_d3c458e886f90db357e31d7a20bd8702);\n",
       "\n",
       "        \n",
       "    \n",
       "            tile_layer_6b469905f164ac19fdb53028582497bd.addTo(map_d3c458e886f90db357e31d7a20bd8702);\n",
       "        \n",
       "    \n",
       "            tile_layer_aa29368dd6b68c0e45a4ef0953216357.addTo(map_d3c458e886f90db357e31d7a20bd8702);\n",
       "        \n",
       "&lt;/script&gt;\n",
       "&lt;/html&gt;\" style=\"position:absolute;width:100%;height:100%;left:0;top:0;border:none !important;\" allowfullscreen webkitallowfullscreen mozallowfullscreen></iframe></div></div>"
      ],
      "text/plain": [
       "<folium.folium.Map at 0x1c5ba02ded0>"
      ]
     },
     "execution_count": 33,
     "metadata": {},
     "output_type": "execute_result"
    }
   ],
   "source": [
    "import folium\n",
    "\n",
    "# Assuming you have the predicted latitude and longitude coordinates\n",
    "predicted_latitude = predicted_location[0,0]  # Replace with your predicted latitude\n",
    "predicted_longitude = predicted_location[0,1]  # Replace with your predicted longitude\n",
    "bird_name = 'Eric'  # Replace with your bird name or other label\n",
    "\n",
    "# Create a map centered around the predicted coordinates\n",
    "mymap = folium.Map(\n",
    "    location=[predicted_latitude, predicted_longitude], \n",
    "    zoom_start=12, \n",
    "    tiles='Stamen Terrain', \n",
    "    attr=\"Map tiles by Stamen Design, under CC BY 3.0. Data by OpenStreetMap, under ODbL.\"\n",
    ")\n",
    "\n",
    "# Add a marker with a label (bird name and coordinates) to the map\n",
    "folium.Marker(\n",
    "    location=[predicted_latitude, predicted_longitude],\n",
    "    popup=f\"{bird_name}: {predicted_latitude}, {predicted_longitude}\",\n",
    "    tooltip=f\"{bird_name}'s Predicted Location\"\n",
    ").add_to(mymap)\n",
    "\n",
    "# Switch to ESRI Satellite view (with attribution)\n",
    "folium.TileLayer(\n",
    "    tiles='https://server.arcgisonline.com/ArcGIS/rest/services/World_Imagery/MapServer/tile/{z}/{y}/{x}',\n",
    "    attr='Tiles &copy; Esri &mdash; Source: Esri, i-cubed, USDA, USGS, AEX, GeoEye, Getmapping, Aerogrid, IGN, IGP, UPR-EGP, and the GIS User Community',\n",
    "    name='Satellite'\n",
    ").add_to(mymap)\n",
    "\n",
    "# Adding Layer control to toggle between different map types\n",
    "folium.LayerControl().add_to(mymap)\n",
    "\n",
    "# Save the map as an HTML file or display directly in a Jupyter notebook\n",
    "mymap.save(\"predicted_location_map.html\")\n",
    "\n",
    "# If you're using a Jupyter notebook, you can display it inline like this:\n",
    "mymap\n"
   ]
  },
  {
   "cell_type": "code",
   "execution_count": null,
   "metadata": {},
   "outputs": [],
   "source": []
  }
 ],
 "metadata": {
  "colab": {
   "provenance": []
  },
  "kernelspec": {
   "display_name": "Python 3 (ipykernel)",
   "language": "python",
   "name": "python3"
  },
  "language_info": {
   "codemirror_mode": {
    "name": "ipython",
    "version": 3
   },
   "file_extension": ".py",
   "mimetype": "text/x-python",
   "name": "python",
   "nbconvert_exporter": "python",
   "pygments_lexer": "ipython3",
   "version": "3.10.9"
  }
 },
 "nbformat": 4,
 "nbformat_minor": 1
}
